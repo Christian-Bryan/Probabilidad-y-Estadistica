{
  "nbformat": 4,
  "nbformat_minor": 0,
  "metadata": {
    "colab": {
      "provenance": [],
      "authorship_tag": "ABX9TyMCIacmx18dF1KbP3/vJJeq",
      "include_colab_link": true
    },
    "kernelspec": {
      "name": "python3",
      "display_name": "Python 3"
    },
    "language_info": {
      "name": "python"
    }
  },
  "cells": [
    {
      "cell_type": "markdown",
      "metadata": {
        "id": "view-in-github",
        "colab_type": "text"
      },
      "source": [
        "<a href=\"https://colab.research.google.com/github/Playingintr/Probabilidad-y-Estadistica/blob/main/Practica-1.ipynb\" target=\"_parent\"><img src=\"https://colab.research.google.com/assets/colab-badge.svg\" alt=\"Open In Colab\"/></a>"
      ]
    },
    {
      "cell_type": "code",
      "execution_count": null,
      "metadata": {
        "colab": {
          "base_uri": "https://localhost:8080/"
        },
        "id": "fepq6M6-12W0",
        "outputId": "6218e253-94d9-4d95-ef45-b98c479ce4ac"
      },
      "outputs": [
        {
          "output_type": "stream",
          "name": "stdout",
          "text": [
            "[70, 70, 65, 90, 100, 95, 45, 80, 73, 20, 100, 96]\n",
            "75.33333333333333\n",
            "75.33333333333333\n",
            "76.5\n",
            "70\n",
            "[70, 100]\n",
            "[15.1, 17.2, 14.69, 13.27, 22.15, 18.71, 19.15, 20.3, 15.1, 17.2]\n",
            "El tiempo promedio de los corredores es => 17.287\n",
            "La media de los tiempos delos corredores es=> 17.2\n",
            "La moda de pos tiempos es=> 15.1\n",
            "La moda de los tiempos es=> [15.1, 17.2]\n",
            "[84.13, 90.39, 70.78, 97.42, 51.14, 97.75, 77.57, 99.25, 74.39, 63.18, 51.08, 97.99, 88.27, 99.27, 51.11, 81.54, 69.43, 64.5, 65.99, 79.39, 77.73, 61.78, 60.4, 64.58, 62.8, 93.82, 67.33, 82.78, 92.62, 87.64, 53.52, 73.57, 85.71, 82.98, 69.65, 51.86, 72.6, 66.93, 86.54, 81.3, 78.16, 91.99, 68.83, 74.87, 65.98, 71.02, 98.79, 55.72, 84.04, 96.64, 86.09, 69.3, 95.73, 93.69, 78.67, 54.65, 68.28, 83.18, 69.07, 68.37, 95.87, 50.14, 68.71, 52.62, 54.03, 91.59, 93.01, 69.85, 88.71, 59.99, 72.6, 57.9, 95.63, 68.16, 50.01, 71.49, 85.91, 79.1, 70.79, 51.98, 95.74, 98.21, 60.75, 52.35, 63.85, 77.6, 81.14, 73.93, 87.36, 98.66, 97.86, 50.39, 62.31, 56.93, 85.11, 63.03, 100.0, 97.74, 78.86, 75.85]\n"
          ]
        }
      ],
      "source": [
        "from statistics import *\n",
        "import random\n",
        "#Lista de caliricaciones del grupo a de probabilidad\n",
        "grupoa=[70, 70, 65, 90, 100, 95, 45, 80, 73, 20, 100, 96]\n",
        "print(grupoa)\n",
        "#La función nos devuelve el tipo de dato de la variable\n",
        "type(grupoa)\n",
        "#Sacar la media de las calificaciones con una formula\n",
        "promedio=sum(grupoa)/len(grupoa)\n",
        "print(promedio)\n",
        "#Utilizar la funcion mean que esta en la libreria statistics para calcular el promedio\n",
        "promedio2=mean(grupoa)\n",
        "print(promedio2)\n",
        "#Determinar el valor de la mediana con la funcion median\n",
        "mediana=median(grupoa)\n",
        "print(mediana)\n",
        "#Determinar el valor de la moda\n",
        "moda=mode(grupoa)\n",
        "print(moda)\n",
        "#En caso de que exista más de una moda\n",
        "#Múltiples modas que puedan existir\n",
        "moda2=multimode(grupoa)\n",
        "print(moda2)\n",
        "\n",
        "#Tiempos wue tardaron losalumnos\n",
        "tiempos100mts=[15.10, 17.20, 14.69, 13.27, 22.15, 18.71, 19.15, 20.3, 15.10, 17.20]\n",
        "print(tiempos100mts)\n",
        "#Utilizamos la funcion mean para determinar el tiempo promedio\n",
        "print(\"El tiempo promedio de los corredores es =>\",mean(tiempos100mts))\n",
        "#Definimos una variabl3 llamada mediana para calcular la mediana con la funciôn median\n",
        "mediana=median(tiempos100mts)\n",
        "print(\"La media de los tiempos delos corredores es=>\", mediana)\n",
        "#definimos una variable llamada moda para calcular la moda con la función mode\n",
        "moda=mode(tiempos100mts)\n",
        "print(\"La moda de pos tiempos es=>\", moda)\n",
        "multimodas=multimode(tiempos100mts)\n",
        "print(\"La moda de los tiempos es=>\", multimodas)\n",
        "\n",
        "fabrica1=[]\n",
        "for i in range(100):\n",
        "  numero_aleatorio=round(random.uniform(50,100),2)\n",
        "  fabrica1.append(numero_aleatorio)\n",
        "print(fabrica1)\n",
        "\n",
        "\n",
        "\n",
        "\n",
        "\n",
        "\n",
        "\n",
        "\n"
      ]
    }
  ]
}