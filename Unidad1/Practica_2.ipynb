{
  "nbformat": 4,
  "nbformat_minor": 0,
  "metadata": {
    "colab": {
      "provenance": [],
      "authorship_tag": "ABX9TyPnk5nU2lPSXuf92MIR0lYA",
      "include_colab_link": true
    },
    "kernelspec": {
      "name": "python3",
      "display_name": "Python 3"
    },
    "language_info": {
      "name": "python"
    }
  },
  "cells": [
    {
      "cell_type": "markdown",
      "metadata": {
        "id": "view-in-github",
        "colab_type": "text"
      },
      "source": [
        "<a href=\"https://colab.research.google.com/github/Playingintr/Probabilidad-y-Estadistica/blob/main/Unidad1/Practica_2.ipynb\" target=\"_parent\"><img src=\"https://colab.research.google.com/assets/colab-badge.svg\" alt=\"Open In Colab\"/></a>"
      ]
    },
    {
      "cell_type": "markdown",
      "source": [
        "# **Probabilidad y Estadística**\n",
        "\n",
        "##Grupo: 2Y\n",
        "## **Unidad 1**\n",
        "Docente: Jose Gabriel Rodriguez Rivas.\n",
        "\n",
        "Alumno: Dominguez Lopez Christian Bryan.\n",
        "\n",
        "**Practica 2 - Maximo, Minimo, Rango y Dispersion de Datos**"
      ],
      "metadata": {
        "id": "wQr_UxW5M5PV"
      }
    },
    {
      "cell_type": "code",
      "source": [
        "import random\n",
        "import matplotlib.pyplot as plt\n",
        "#Librerias que tienen funciones de tipo estadistica\n",
        "from statistics import*\n"
      ],
      "metadata": {
        "id": "pFaZxtPANFUa"
      },
      "execution_count": 2,
      "outputs": []
    },
    {
      "cell_type": "code",
      "source": [
        "fabrica1=[]\n",
        "for i in range(100):\n",
        "  numero_aleatorio=round(random.uniform(50,100),2)\n",
        "  fabrica1.append(numero_aleatorio)\n",
        "print(fabrica1)\n"
      ],
      "metadata": {
        "colab": {
          "base_uri": "https://localhost:8080/"
        },
        "id": "LPIzQRqmNiP3",
        "outputId": "5b010181-d1fe-4485-f352-823348982e6e"
      },
      "execution_count": 3,
      "outputs": [
        {
          "output_type": "stream",
          "name": "stdout",
          "text": [
            "[95.98, 77.99, 66.89, 99.26, 85.97, 56.8, 99.97, 55.0, 96.84, 76.13, 75.65, 99.75, 82.71, 68.41, 96.96, 95.38, 65.11, 71.63, 68.96, 71.37, 79.85, 95.41, 67.12, 71.75, 78.2, 72.09, 93.28, 88.58, 61.23, 87.49, 53.96, 65.51, 60.23, 68.55, 59.33, 85.95, 59.74, 82.95, 90.76, 82.97, 84.35, 74.06, 71.58, 95.12, 52.96, 98.04, 62.54, 86.46, 77.87, 51.13, 92.18, 74.25, 78.0, 56.83, 81.64, 60.19, 64.47, 57.61, 89.74, 95.96, 69.17, 84.83, 78.0, 95.28, 79.56, 85.53, 81.18, 93.85, 97.5, 79.85, 99.12, 66.29, 87.24, 56.44, 58.36, 81.28, 79.79, 65.98, 68.75, 79.82, 91.45, 55.46, 53.05, 83.36, 65.26, 80.6, 88.83, 74.0, 77.24, 65.22, 58.85, 64.66, 60.92, 52.71, 63.41, 83.18, 81.21, 97.88, 89.67, 52.06]\n"
          ]
        }
      ]
    },
    {
      "cell_type": "code",
      "source": [
        "fabrica2=[]\n",
        "for i in range(100):\n",
        "  numero_aleatorio2=round(random.uniform(40,93),2)\n",
        "  fabrica2.append(numero_aleatorio2)\n",
        "print(fabrica2)\n"
      ],
      "metadata": {
        "colab": {
          "base_uri": "https://localhost:8080/"
        },
        "id": "dJUglaYCNz0u",
        "outputId": "4879e7d3-0768-4b4f-82a9-77ac254384aa"
      },
      "execution_count": 10,
      "outputs": [
        {
          "output_type": "stream",
          "name": "stdout",
          "text": [
            "[63.05, 63.88, 52.77, 70.35, 60.68, 77.73, 53.46, 84.61, 70.1, 84.62, 52.88, 84.74, 78.65, 83.55, 73.05, 90.74, 89.74, 55.29, 92.19, 65.23, 91.71, 46.02, 56.28, 91.19, 41.7, 40.87, 62.74, 69.27, 47.16, 40.53, 75.03, 88.11, 42.04, 86.49, 79.34, 57.06, 76.99, 90.49, 70.73, 50.96, 76.72, 58.15, 62.62, 66.02, 43.33, 78.91, 44.26, 75.74, 60.47, 63.35, 86.22, 73.48, 65.57, 87.27, 65.18, 49.73, 40.41, 70.59, 77.21, 75.65, 78.74, 75.44, 82.5, 83.13, 46.61, 43.69, 46.72, 60.49, 71.3, 92.34, 60.79, 49.33, 52.35, 51.82, 72.44, 75.75, 40.84, 40.05, 77.41, 58.54, 59.51, 68.08, 77.9, 80.6, 83.19, 91.53, 71.74, 57.97, 50.22, 40.97, 73.1, 57.32, 47.2, 57.36, 63.85, 72.27, 67.85, 82.86, 82.98, 73.62]\n"
          ]
        }
      ]
    },
    {
      "cell_type": "code",
      "source": [
        "maximo1=max(fabrica1)\n",
        "minimo1=min(fabrica1)\n",
        "rango1=maximo1-minimo1\n",
        "media1=mean(fabrica1)\n",
        "mediana1=median(fabrica1)\n",
        "moda1=mode(fabrica1)\n",
        "print(\"Estad'istica descriptiva de la fabrica 1 \\n\", media1, \"\\n Mediana: \", mediana1, \"\\n Moda: \", moda1, \"\\n Maximo: \", maximo1, \"\\n Minimo: \", minimo1, \"\\n Rango: \",rango1)"
      ],
      "metadata": {
        "colab": {
          "base_uri": "https://localhost:8080/"
        },
        "id": "b1UgUXF0OPlZ",
        "outputId": "c9b85685-70df-45b5-b751-83787f8b80e5"
      },
      "execution_count": 8,
      "outputs": [
        {
          "output_type": "stream",
          "name": "stdout",
          "text": [
            "Estad'istica descriptiva de la fabrica 1 \n",
            " 69.33085 \n",
            " Mediana:  69.53 \n",
            " Moda:  79.85 \n",
            " Maximo:  99.97 \n",
            " Minimo:  40.2 \n",
            " Rango:  59.769999999999996\n"
          ]
        }
      ]
    },
    {
      "cell_type": "code",
      "source": [
        "maximo2=max(fabrica2)\n",
        "minimo2=min(fabrica2)\n",
        "rango2=maximo1-minimo1\n",
        "media2=mean(fabrica2)\n",
        "mediana2=median(fabrica2)\n",
        "moda2=mode(fabrica2)\n",
        "print(\"Estad'istica descriptiva de la fabrica 2 \\n\", media2, \"\\n Mediana: \", mediana2, \"\\n Moda: \", moda2, \"\\n Maximo: \", maximo2, \"\\n Minimo: \", minimo2, \"\\n Rango: \",rango2)"
      ],
      "metadata": {
        "colab": {
          "base_uri": "https://localhost:8080/"
        },
        "id": "KwTuLfnqPeDA",
        "outputId": "27ce7ad2-f9ea-4458-d09d-6649775446cf"
      },
      "execution_count": 11,
      "outputs": [
        {
          "output_type": "stream",
          "name": "stdout",
          "text": [
            "Estad'istica descriptiva de la fabrica 2 \n",
            " 66.93299999999999 \n",
            " Mediana:  68.675 \n",
            " Moda:  63.05 \n",
            " Maximo:  92.34 \n",
            " Minimo:  40.05 \n",
            " Rango:  59.769999999999996\n"
          ]
        }
      ]
    },
    {
      "cell_type": "code",
      "source": [
        "Desviacion_Estandar_Fabrica1=stdev(fabrica1)\n",
        "print(Desviacion_Estandar_Fabrica1)"
      ],
      "metadata": {
        "colab": {
          "base_uri": "https://localhost:8080/"
        },
        "id": "jCN-8bfHQTWW",
        "outputId": "895c46d3-cf0d-467c-b7a9-fe7c7bc5a7e2"
      },
      "execution_count": 12,
      "outputs": [
        {
          "output_type": "stream",
          "name": "stdout",
          "text": [
            "15.622042315260819\n"
          ]
        }
      ]
    },
    {
      "cell_type": "code",
      "source": [
        "Desviacion_Estandar_Fabrica2=stdev(fabrica2)\n",
        "print(Desviacion_Estandar_Fabrica2)"
      ],
      "metadata": {
        "colab": {
          "base_uri": "https://localhost:8080/"
        },
        "id": "_eQ4tSS9QmcL",
        "outputId": "ab77e6fa-3731-411f-94f5-04c46b477b43"
      },
      "execution_count": 13,
      "outputs": [
        {
          "output_type": "stream",
          "name": "stdout",
          "text": [
            "15.321131475741916\n"
          ]
        }
      ]
    },
    {
      "cell_type": "code",
      "source": [
        "plt.hist(fabrica1, bins=10, alpha=0.2, color='b', edgecolor=\"black\")\n",
        "plt.axvline(media1, color='b', linestyle='dashed', linewidth=2, label=f'Media ={Desviacion_Estandar_Fabrica1:.2f}')\n",
        "plt.axvline(mediana1, color='r', linestyle='dashed', linewidth=2, label=f'Mediana ={Desviacion_Estandar_Fabrica1:.2f}')\n",
        "plt.axvline(moda1, color='y', linestyle='dashed', linewidth=2, label=f'Moda ={Desviacion_Estandar_Fabrica1:.2f}')\n",
        "plt.axvline(media1 - Desviacion_Estandar_Fabrica1, color='black', linestyle='dashed', linewidth=2, label=f'Desv. Estandar ={Desviacion_Estandar_Fabrica1:.2f}')\n",
        "plt.axvline(media1 + Desviacion_Estandar_Fabrica1, color='black', linestyle='dashed', linewidth=2, label=f'Desv. Estandar ={Desviacion_Estandar_Fabrica1:.2f}')\n",
        "plt.xlabel('Valor')\n",
        "plt.ylabel('Frecuencia')\n",
        "plt.title('Producion diaria de la fabrica 1')\n",
        "#Mostrar caja con leyendas\n",
        "plt.legend()\n",
        "plt.show()\n",
        "\n"
      ],
      "metadata": {
        "colab": {
          "base_uri": "https://localhost:8080/",
          "height": 472
        },
        "id": "u9W5quKWQy2P",
        "outputId": "e372168f-5a31-4a24-b215-510a3f0773dd"
      },
      "execution_count": 15,
      "outputs": [
        {
          "output_type": "display_data",
          "data": {
            "text/plain": [
              "<Figure size 640x480 with 1 Axes>"
            ],
            "image/png": "[encoded data removed]"
          },
          "metadata": {}
        }
      ]
    }
  ]
}