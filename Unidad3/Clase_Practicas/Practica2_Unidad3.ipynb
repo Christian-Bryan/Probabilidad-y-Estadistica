{
  "nbformat": 4,
  "nbformat_minor": 0,
  "metadata": {
    "colab": {
      "provenance": [],
      "authorship_tag": "ABX9TyOXj81PDAo7+ueZJv9MCMpl",
      "include_colab_link": true
    },
    "kernelspec": {
      "name": "python3",
      "display_name": "Python 3"
    },
    "language_info": {
      "name": "python"
    }
  },
  "cells": [
    {
      "cell_type": "markdown",
      "metadata": {
        "id": "view-in-github",
        "colab_type": "text"
      },
      "source": [
        "<a href=\"https://colab.research.google.com/github/Christian-Bryan/Probabilidad-y-Estadistica/blob/main/Unidad3/Clase_Practicas/Practica2_Unidad3.ipynb\" target=\"_parent\"><img src=\"https://colab.research.google.com/assets/colab-badge.svg\" alt=\"Open In Colab\"/></a>"
      ]
    },
    {
      "cell_type": "markdown",
      "source": [],
      "metadata": {
        "id": "fE2oX4SYMt13"
      }
    },
    {
      "cell_type": "code",
      "execution_count": null,
      "metadata": {
        "colab": {
          "base_uri": "https://localhost:8080/"
        },
        "id": "RvT79r53H_R3",
        "outputId": "7c0f9d56-3bc8-4158-95f7-52c4b1bf0b87"
      },
      "outputs": [
        {
          "output_type": "stream",
          "name": "stdout",
          "text": [
            "x=5, p=0.05, x*p=0.25\n",
            "x=6, p=0.1, x*p=0.60\n",
            "x=7, p=0.2, x*p=1.40\n",
            "x=8, p=0.3, x*p=2.40\n",
            "x=9, p=0.25, x*p=2.25\n",
            "x=10, p=0.1, x*p=1.00\n",
            "\n",
            "Valor esperado (Esperanza): 7.90\n"
          ]
        }
      ],
      "source": [
        "x=[5,6,7,8,9,10]#Valores posibles de la variable aleatoria\n",
        "p=[0.05,0.10,0.20,0.30,0.25,0.10]#Probabilidades correspondientes\n",
        "#Inicializar una variable para acumular la suma\n",
        "valor_esperado=0\n",
        "#Recorrer sus valores y sus probabilidades\n",
        "for i in range(len(x)):\n",
        "  xi=x[i] #Valor de la variable aleatoria\n",
        "  pi=p[i] #Probabilidad de ese valor\n",
        "  producto=xi*pi #Multiplicar valor por su probabilidad\n",
        "  valor_esperado+=producto #Sumar al acumulador\n",
        "  #Mostrar cada paso\n",
        "  print(f\"x={xi}, p={pi}, x*p={producto:.2f}\")\n",
        "#Mostrar resultado final\n",
        "print(f\"\\nValor esperado (Esperanza): {valor_esperado:.2f}\")"
      ]
    }
  ]
}