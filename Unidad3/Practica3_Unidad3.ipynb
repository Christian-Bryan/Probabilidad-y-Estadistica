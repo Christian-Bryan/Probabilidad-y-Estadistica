{
  "nbformat": 4,
  "nbformat_minor": 0,
  "metadata": {
    "colab": {
      "provenance": [],
      "authorship_tag": "ABX9TyOpCkZZW1r4yQzj7WQhgOj7",
      "include_colab_link": true
    },
    "kernelspec": {
      "name": "python3",
      "display_name": "Python 3"
    },
    "language_info": {
      "name": "python"
    }
  },
  "cells": [
    {
      "cell_type": "markdown",
      "metadata": {
        "id": "view-in-github",
        "colab_type": "text"
      },
      "source": [
        "<a href=\"https://colab.research.google.com/github/Christian-Bryan/Probabilidad-y-Estadistica/blob/main/Unidad3/Practica3_Unidad3.ipynb\" target=\"_parent\"><img src=\"https://colab.research.google.com/assets/colab-badge.svg\" alt=\"Open In Colab\"/></a>"
      ]
    },
    {
      "cell_type": "code",
      "execution_count": 1,
      "metadata": {
        "id": "LW5WiBTjSe5p"
      },
      "outputs": [],
      "source": [
        "import math"
      ]
    },
    {
      "cell_type": "code",
      "source": [
        "x=[5,6,7,8,9,10]\n",
        "p=[0.05, 0.10, 0.20, 0.30, 0.25, 0.10]\n",
        "#Calcular E(X)\n",
        "esperanza=0\n",
        "for i in range(len(x)):\n",
        "  esperanza+=x[i]*p[i]\n",
        " #Calcular E(X^2)\n",
        "esperanza_cuadrado=0\n",
        "for i in range(len(x)):\n",
        "  esperanza_cuadrado+=(x[i]**2)*p[i]\n",
        "\n",
        "#Calcular varianza y desviación estándar\n",
        "varianza=esperanza_cuadrado-esperanza**2\n",
        "desviación=math.sqrt(varianza)\n",
        "#Mostrar resultados\n",
        "print(f\"E(X)= {esperanza:.2f}\")\n",
        "print(f\"E(X^2)= {esperanza_cuadrado:.2f}\")\n",
        "print(f\"Varianza= {varianza:.2f}\")\n",
        "print(f\"Desviación estándar= {desviación:.2f}\")\n",
        "\n",
        "\n",
        "\n"
      ],
      "metadata": {
        "colab": {
          "base_uri": "https://localhost:8080/"
        },
        "id": "PuRTuCfbVT1j",
        "outputId": "b48cba32-c65f-449a-b821-78bd13cfc6bb"
      },
      "execution_count": 2,
      "outputs": [
        {
          "output_type": "stream",
          "name": "stdout",
          "text": [
            "E(X)= 7.90\n",
            "E(X^2)= 64.10\n",
            "Varianza= 1.69\n",
            "Desviación estándar= 1.30\n"
          ]
        }
      ]
    }
  ]
}