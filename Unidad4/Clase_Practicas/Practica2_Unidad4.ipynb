{
  "nbformat": 4,
  "nbformat_minor": 0,
  "metadata": {
    "colab": {
      "provenance": [],
      "authorship_tag": "ABX9TyO6GmQoK/IqlsuxCDzWetXd",
      "include_colab_link": true
    },
    "kernelspec": {
      "name": "python3",
      "display_name": "Python 3"
    },
    "language_info": {
      "name": "python"
    }
  },
  "cells": [
    {
      "cell_type": "markdown",
      "metadata": {
        "id": "view-in-github",
        "colab_type": "text"
      },
      "source": [
        "<a href=\"https://colab.research.google.com/github/Christian-Bryan/Probabilidad-y-Estadistica/blob/main/Unidad4/Clase_Practicas/Practica2_Unidad4.ipynb\" target=\"_parent\"><img src=\"https://colab.research.google.com/assets/colab-badge.svg\" alt=\"Open In Colab\"/></a>"
      ]
    },
    {
      "cell_type": "code",
      "execution_count": null,
      "metadata": {
        "id": "OBUk_BeOnwgN",
        "colab": {
          "base_uri": "https://localhost:8080/"
        },
        "outputId": "8f69b6e9-e5be-4fb2-bf9a-29ed08ba78f2"
      },
      "outputs": [
        {
          "output_type": "stream",
          "name": "stdout",
          "text": [
            "La probabilidad de que ninún paciente sufra la enfermedad es:  0.0507282029895386\n"
          ]
        }
      ],
      "source": [
        "from scipy.stats import binom\n",
        "#Parametros de la distribucion binomial\n",
        "probabilidad_exito=0.83\n",
        "num_pacientes=16\n",
        "x=16  #Numero de exitos\n",
        "#Calcular la probabilidad de que ningún paciente sufra la enfermedad\n",
        "probabilidad_ninguno_enfermo=binom.pmf(x, num_pacientes, probabilidad_exito)\n",
        "print(\"La probabilidad de que ningún paciente sufra la enfermedad es: \", probabilidad_ninguno_enfermo)\n"
      ]
    },
    {
      "cell_type": "code",
      "source": [
        "from scipy.stats import binom\n",
        "#Parametros de la distribucion binomial\n",
        "probabilidad_exito=0.83\n",
        "num_pacientes=16\n",
        "x=0  #Numero de exitos\n",
        "#Calcular la probabilidad de que ningún paciente sufra la enfermedad\n",
        "probabilidad_ninguno_enfermo=binom.pmf(x, num_pacientes, probabilidad_exito)\n",
        "print(\"La probabilidad de que todos los pacientes sufra la enfermedad es: \", probabilidad_ninguno_enfermo)\n"
      ],
      "metadata": {
        "colab": {
          "base_uri": "https://localhost:8080/"
        },
        "id": "QMlHrPvjWh0f",
        "outputId": "818dd53b-e447-47e8-9c55-f6661753cb85"
      },
      "execution_count": null,
      "outputs": [
        {
          "output_type": "stream",
          "name": "stdout",
          "text": [
            "La probabilidad de que todos los pacientes sufra la enfermedad es:  4.866119187566701e-13\n"
          ]
        }
      ]
    }
  ]
}