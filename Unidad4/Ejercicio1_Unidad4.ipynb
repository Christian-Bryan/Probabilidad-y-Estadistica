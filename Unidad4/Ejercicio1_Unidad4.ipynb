{
  "nbformat": 4,
  "nbformat_minor": 0,
  "metadata": {
    "colab": {
      "provenance": [],
      "authorship_tag": "ABX9TyNhZarg/AzePnMDp+0rhjEj",
      "include_colab_link": true
    },
    "kernelspec": {
      "name": "python3",
      "display_name": "Python 3"
    },
    "language_info": {
      "name": "python"
    }
  },
  "cells": [
    {
      "cell_type": "markdown",
      "metadata": {
        "id": "view-in-github",
        "colab_type": "text"
      },
      "source": [
        "<a href=\"https://colab.research.google.com/github/Christian-Bryan/Probabilidad-y-Estadistica/blob/main/Unidad4/Ejercicio1_Unidad4.ipynb\" target=\"_parent\"><img src=\"https://colab.research.google.com/assets/colab-badge.svg\" alt=\"Open In Colab\"/></a>"
      ]
    },
    {
      "cell_type": "markdown",
      "source": [
        "# **Probabilidad y Estadística**\n",
        "\n",
        "##Grupo: 2Y\n",
        "## **Unidad 4**\n",
        "Docente: Jose Gabriel Rodriguez Rivas.\n",
        "\n",
        "Alumno: Dominguez Lopez Christian Bryan.\n",
        "\n",
        "**Ejercicio 1**"
      ],
      "metadata": {
        "id": "E_7NGjqApjqV"
      }
    },
    {
      "cell_type": "code",
      "execution_count": 2,
      "metadata": {
        "id": "smIgQlYM_0Rl"
      },
      "outputs": [],
      "source": [
        "import numpy as np\n",
        "import matplotlib.pyplot as plt\n",
        "from scipy.stats import norm\n"
      ]
    },
    {
      "cell_type": "code",
      "source": [
        "#Parámetros de la distribución normal\n",
        "media=70  #Media\n",
        "desv_std=4  #Desviación estándar\n",
        "total_estudiantes=500\n",
        "\n",
        "\n",
        "#Variable para cálculo de la probabilidad de que un estudiante pese menos de 68kg\n",
        "peso_limite1=68\n",
        "\n",
        "#Primero necesitamos calcular la probabilidad de que un estudiante pese menos de 68kg utilizando la función de distribución\n",
        "#acumulativa (CDF) de la distribución normal.\n",
        "prob_menos_68=norm.cdf(peso_limite1, media, desv_std)\n",
        "\n",
        "#Variable para cálculo de la probabilidad de que un estudiante pese menos de 72kg\n",
        "peso_limite2=72\n",
        "\n",
        "#Primero necesitamos calcular la probabilidad de que un estudiante pese menos de 72kg utilizando la función de distribución\n",
        "#acumulativa (CDF) de la distribución normal.\n",
        "prob_menos_72=norm.cdf(peso_limite2, media, desv_std)\n",
        "\n",
        "#Calculo del numero de estudiantes que pesan entre 68 y 72\n",
        "estudiantes_68_72=(total_estudiantes*prob_menos_72)-(total_estudiantes*prob_menos_68)\n",
        "\n",
        "print(\"Probabilidad de que un estudiante pese entre 68kg y 72kg:\", prob_menos_72-prob_menos_68)\n",
        "print(\"Numero de estudiantes que pesan entre 68kg y 72kg:\", estudiantes_68_72)\n",
        "\n"
      ],
      "metadata": {
        "id": "1oy90KAsAL3t",
        "colab": {
          "base_uri": "https://localhost:8080/"
        },
        "outputId": "32ebc686-54cf-4021-e339-a675bb0334ad"
      },
      "execution_count": 5,
      "outputs": [
        {
          "output_type": "stream",
          "name": "stdout",
          "text": [
            "Probabilidad de que un estudiante pese entre 68kg y 72kg: 0.38292492254802624\n",
            "Numero de estudiantes que pesan entre 68kg y 72kg: 191.4624612740131\n"
          ]
        }
      ]
    },
    {
      "cell_type": "code",
      "source": [],
      "metadata": {
        "id": "ihBkY5VuqRMz"
      },
      "execution_count": null,
      "outputs": []
    }
  ]
}