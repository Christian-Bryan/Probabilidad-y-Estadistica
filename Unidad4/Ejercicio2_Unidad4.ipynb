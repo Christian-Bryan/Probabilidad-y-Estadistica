{
  "nbformat": 4,
  "nbformat_minor": 0,
  "metadata": {
    "colab": {
      "provenance": [],
      "authorship_tag": "ABX9TyNa5hNIaPEaKKrzaYh81MNU",
      "include_colab_link": true
    },
    "kernelspec": {
      "name": "python3",
      "display_name": "Python 3"
    },
    "language_info": {
      "name": "python"
    }
  },
  "cells": [
    {
      "cell_type": "markdown",
      "metadata": {
        "id": "view-in-github",
        "colab_type": "text"
      },
      "source": [
        "<a href=\"https://colab.research.google.com/github/Christian-Bryan/Probabilidad-y-Estadistica/blob/main/Unidad4/Ejercicio2_Unidad4.ipynb\" target=\"_parent\"><img src=\"https://colab.research.google.com/assets/colab-badge.svg\" alt=\"Open In Colab\"/></a>"
      ]
    },
    {
      "cell_type": "markdown",
      "source": [
        "# **Probabilidad y Estadística**\n",
        "\n",
        "##Grupo: 2Y\n",
        "## **Unidad 4**\n",
        "Docente: Jose Gabriel Rodriguez Rivas.\n",
        "\n",
        "Alumno: Dominguez Lopez Christian Bryan.\n",
        "\n",
        "**Ejercicio 2**"
      ],
      "metadata": {
        "id": "Z3nhtpOrxJ2u"
      }
    },
    {
      "cell_type": "markdown",
      "source": [
        "Problema 1\n"
      ],
      "metadata": {
        "id": "-HZVBHoQxQsB"
      }
    },
    {
      "cell_type": "code",
      "execution_count": null,
      "metadata": {
        "id": "ZKXmyShLxDVA"
      },
      "outputs": [],
      "source": [
        "#Especifique si la solucion es de tipo Binomial o Poisson\n",
        "#Es Poisson porque se esta pidiendo la probabilidad de que las personas ingresadas a una unidad de cuidados intensivos en un dia en particular sea dos."
      ]
    },
    {
      "cell_type": "code",
      "source": [
        "from scipy.stats import poisson\n",
        "\n",
        "#Parametros de la distribucion de Poisson\n",
        "media_personas=5\n",
        "\n",
        "#Probabilidad de que el numero de personas ingresadas a la unidad de cuidados intensivos en un hospital, sea de dos.\n",
        "probabilidad_2_personas=poisson.pmf(2, media_personas)\n",
        "\n",
        "print(\"Probabilidad de que haya dos personas:\", probabilidad_2_personas)\n",
        "\n",
        "#Es probable que x exceda de 10? Explicar\n",
        "\n",
        "#Probabilidad de que el numero de personas ingresadas a la unidad de cuidados intensivos en un hospital, sea de diez.\n",
        "probabilidad_10_personas=poisson.pmf(10, media_personas)\n",
        "\n",
        "print(\"Probabilidad de que haya diez personas:\", probabilidad_10_personas)\n",
        "\n",
        "#La probabilidad de que el numero de personas sea de 10, es de tan solo el 1.81%, como a medida que incrementa el numero de personas va bajando la probabilidad, entonces\n",
        "#es poco probable que el numero de personas exceda de 10."
      ],
      "metadata": {
        "colab": {
          "base_uri": "https://localhost:8080/"
        },
        "id": "YjAx7OD3xTTJ",
        "outputId": "ea73a3d3-2bbe-4a59-8293-ec442d9927c2"
      },
      "execution_count": 8,
      "outputs": [
        {
          "output_type": "stream",
          "name": "stdout",
          "text": [
            "Probabilidad de que haya dos personas: 0.08422433748856832\n",
            "Probabilidad de que haya diez personas: 0.018132788707821854\n"
          ]
        }
      ]
    },
    {
      "cell_type": "markdown",
      "source": [
        "Problema 2"
      ],
      "metadata": {
        "id": "N9pS2e-O1I2d"
      }
    },
    {
      "cell_type": "code",
      "execution_count": null,
      "metadata": {
        "id": "IlbjAz7d3nOj"
      },
      "outputs": [],
      "source": [
        "#Especifique si la solucion es de tipo Binomial o Poisson\n",
        "#Es Binomial porque hay dos opciones para las cuales, de una de ellas (que sea el motor defectuoso), obtendremos la probabilidad."
      ]
    },
    {
      "cell_type": "code",
      "source": [
        "from scipy.stats import binom\n",
        "\n",
        "\n",
        "#Parametros de la distribucion binomial\n",
        "probabilidad_defectuoso=0.001\n",
        "lote_motores=1000\n",
        "X=\"Sin asignacion de valor aun\"\n",
        "\n",
        "#Calcular probabilidad de que ninguno sea defectuoso\n",
        "X0=0  #Numero de motores defectuosos\n",
        "probabilidad_defectuosos_0=binom.pmf(X0, lote_motores, probabilidad_defectuoso)\n",
        "print(\"La probabilidad de que ningun motor sea defectuoso es de:\", probabilidad_defectuosos_0)\n",
        "\n",
        "#Calcular probabilidad de que tres sean defectuoso\n",
        "X3=3  #Numero de motores defectuosos\n",
        "probabilidad_defectuosos_3=binom.pmf(X3, lote_motores, probabilidad_defectuoso)\n",
        "print(\"La probabilidad de que tres motores sean defectuosos es de:\", probabilidad_defectuosos_3)\n",
        "\n",
        "#Calcular probabilidad de que cuatro sean defectuoso\n",
        "X4=4  #Numero de motores defectuosos\n",
        "probabilidad_defectuosos_4=binom.pmf(X4, lote_motores, probabilidad_defectuoso)\n",
        "print(\"La probabilidad de que cuatro motores sean defectuosos es de:\", probabilidad_defectuosos_4)\n",
        "\n",
        "\n"
      ],
      "metadata": {
        "colab": {
          "base_uri": "https://localhost:8080/"
        },
        "id": "9pVbM--j3sa0",
        "outputId": "98c6ff90-2d15-4427-97a3-42c468df8537"
      },
      "execution_count": 13,
      "outputs": [
        {
          "output_type": "stream",
          "name": "stdout",
          "text": [
            "La probabilidad de que ningun motor sea defectuoso es de: 0.3676954247709639\n",
            "La probabilidad de que tres motores sean defectuosos es de: 0.061282509389840666\n",
            "La probabilidad de que cuatro motores sean defectuosos es de: 0.015289955420838651\n"
          ]
        }
      ]
    }
  ]
}